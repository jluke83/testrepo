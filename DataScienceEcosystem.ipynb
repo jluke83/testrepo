{
 "cells": [
  {
   "cell_type": "markdown",
   "id": "d630741e-d01b-4744-84e0-fe3678860c15",
   "metadata": {},
   "source": [
    "# Data Science Tools and Ecosystem"
   ]
  },
  {
   "cell_type": "markdown",
   "id": "545542ee-aeb6-4efd-b636-a4b7018afdac",
   "metadata": {},
   "source": [
    "## Author\n",
    "Joshua McCoy"
   ]
  },
  {
   "cell_type": "markdown",
   "id": "d0a7af95-b8c4-41ff-a933-bce597c5a734",
   "metadata": {},
   "source": [
    "In this notebook, Data Science Tools and Ecosystem are sumarized."
   ]
  },
  {
   "cell_type": "markdown",
   "id": "f5c81ee2-5214-48ba-8a26-2d73cda6ff2d",
   "metadata": {},
   "source": [
    "**Objectives**\n",
    "- List popular languages for Data Science\n",
    "- List commonly used libraries of Data Scientists\n",
    "- List popular tools for Data Scientists\n",
    "- Perform arithmetic operations using code blocks"
   ]
  },
  {
   "cell_type": "markdown",
   "id": "1816feba-14cd-4a04-bb36-d16dbb505513",
   "metadata": {},
   "source": [
    "Some of the popular languages that Data Scientists use are:\n",
    "\n",
    "1. R\n",
    "2. Python\n",
    "3. C++\n",
    "4. Java"
   ]
  },
  {
   "cell_type": "markdown",
   "id": "ad164e2c-2d72-4de4-9ef1-7e556e220ec7",
   "metadata": {},
   "source": [
    "Some of the commonly used libraries used by Data Scientists include:\n",
    "\n",
    "1. Plotly\n",
    "2. NumPy\n",
    "3. Pandas"
   ]
  },
  {
   "cell_type": "markdown",
   "id": "ff3d6bfd-1a8e-4301-93e7-8879ae1aca41",
   "metadata": {},
   "source": [
    "| Data Science Tools |\n",
    "| ------ |\n",
    "| Spyder |\n",
    "| Rstudio |\n",
    "| Anaconda |"
   ]
  },
  {
   "cell_type": "markdown",
   "id": "a3e74c4a-6c4a-475d-a04e-9bdc13a14998",
   "metadata": {},
   "source": [
    "### Below are a few examples of evaluating arithmetic expressions in Python:"
   ]
  },
  {
   "cell_type": "code",
   "execution_count": 10,
   "id": "d429b618-2564-43f9-a5ea-7b7fbec2b749",
   "metadata": {},
   "outputs": [
    {
     "data": {
      "text/plain": [
       "17"
      ]
     },
     "execution_count": 10,
     "metadata": {},
     "output_type": "execute_result"
    }
   ],
   "source": [
    "#This a simple arithmetic expression to multiply then add intgers.\n",
    "\n",
    "(3*4)+5"
   ]
  },
  {
   "cell_type": "code",
   "execution_count": 12,
   "id": "551b955c-c94c-48d2-a730-ebdc14b51065",
   "metadata": {},
   "outputs": [
    {
     "data": {
      "text/plain": [
       "3.3333333333333335"
      ]
     },
     "execution_count": 12,
     "metadata": {},
     "output_type": "execute_result"
    }
   ],
   "source": [
    "#This will convert 200 minutes to hours by dividing by 60.\n",
    "200/60"
   ]
  },
  {
   "cell_type": "markdown",
   "id": "cae588f8-6590-496e-bcaf-aae5ad0528a3",
   "metadata": {},
   "source": []
  }
 ],
 "metadata": {
  "kernelspec": {
   "display_name": "Python 3 (ipykernel)",
   "language": "python",
   "name": "python3"
  },
  "language_info": {
   "codemirror_mode": {
    "name": "ipython",
    "version": 3
   },
   "file_extension": ".py",
   "mimetype": "text/x-python",
   "name": "python",
   "nbconvert_exporter": "python",
   "pygments_lexer": "ipython3",
   "version": "3.12.4"
  }
 },
 "nbformat": 4,
 "nbformat_minor": 5
}
